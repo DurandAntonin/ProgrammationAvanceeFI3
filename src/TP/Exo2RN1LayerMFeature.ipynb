{
 "cells": [
  {
   "cell_type": "code",
   "execution_count": 9,
   "metadata": {},
   "outputs": [
    {
     "name": "stdout",
     "output_type": "stream",
     "text": [
      "Requirement already satisfied: numpy in c:\\users\\utilisateur\\.conda\\envs\\programmationavancee\\lib\\site-packages (1.26.1)\n",
      "Requirement already satisfied: scikit-learn in c:\\users\\utilisateur\\.conda\\envs\\programmationavancee\\lib\\site-packages (1.3.2)\n",
      "Requirement already satisfied: numpy<2.0,>=1.17.3 in c:\\users\\utilisateur\\.conda\\envs\\programmationavancee\\lib\\site-packages (from scikit-learn) (1.26.1)\n",
      "Requirement already satisfied: scipy>=1.5.0 in c:\\users\\utilisateur\\.conda\\envs\\programmationavancee\\lib\\site-packages (from scikit-learn) (1.11.3)\n",
      "Requirement already satisfied: joblib>=1.1.1 in c:\\users\\utilisateur\\.conda\\envs\\programmationavancee\\lib\\site-packages (from scikit-learn) (1.3.2)\n",
      "Requirement already satisfied: threadpoolctl>=2.0.0 in c:\\users\\utilisateur\\.conda\\envs\\programmationavancee\\lib\\site-packages (from scikit-learn) (3.2.0)\n",
      "Collecting utilities-package\n",
      "  Using cached utilities-package-0.0.8.tar.gz (28 kB)\n",
      "  Preparing metadata (setup.py): started\n",
      "  Preparing metadata (setup.py): finished with status 'error'\n"
     ]
    },
    {
     "name": "stderr",
     "output_type": "stream",
     "text": [
      "  error: subprocess-exited-with-error\n",
      "  \n",
      "  × python setup.py egg_info did not run successfully.\n",
      "  │ exit code: 1\n",
      "  ╰─> [8 lines of output]\n",
      "      Traceback (most recent call last):\n",
      "        File \"<string>\", line 2, in <module>\n",
      "        File \"<pip-setuptools-caller>\", line 34, in <module>\n",
      "        File \"C:\\Users\\Utilisateur\\AppData\\Local\\Temp\\pip-install-gn29jyyv\\utilities-package_857f1a741088435ab27c85e6cf9758b6\\setup.py\", line 4, in <module>\n",
      "          from utilitiespackage.settings import *\n",
      "        File \"C:\\Users\\Utilisateur\\AppData\\Local\\Temp\\pip-install-gn29jyyv\\utilities-package_857f1a741088435ab27c85e6cf9758b6\\utilitiespackage\\__init__.py\", line 5, in <module>\n",
      "          from collections import Iterable as __Iterable, Mapping as __Mapping, Sequence as __Sequence\n",
      "      ImportError: cannot import name 'Iterable' from 'collections' (C:\\Users\\Utilisateur\\.conda\\envs\\ProgrammationAvancee\\lib\\collections\\__init__.py)\n",
      "      [end of output]\n",
      "  \n",
      "  note: This error originates from a subprocess, and is likely not a problem with pip.\n",
      "error: metadata-generation-failed\n",
      "\n",
      "× Encountered error while generating package metadata.\n",
      "╰─> See above for output.\n",
      "\n",
      "note: This is an issue with the package mentioned above, not pip.\n",
      "hint: See above for details.\n"
     ]
    },
    {
     "name": "stdout",
     "output_type": "stream",
     "text": [
      "Requirement already satisfied: python-utils in c:\\users\\utilisateur\\.conda\\envs\\programmationavancee\\lib\\site-packages (3.8.1)\n",
      "Requirement already satisfied: typing-extensions>3.10.0.2 in c:\\users\\utilisateur\\.conda\\envs\\programmationavancee\\lib\\site-packages (from python-utils) (4.7.1)\n",
      "Collecting pandas\n",
      "  Obtaining dependency information for pandas from https://files.pythonhosted.org/packages/ce/cd/a7c2cbffe2afff975349e60b14b63a448162145a7acac8ba12ddc2ed78a8/pandas-2.1.1-cp310-cp310-win_amd64.whl.metadata\n",
      "  Downloading pandas-2.1.1-cp310-cp310-win_amd64.whl.metadata (18 kB)\n",
      "Requirement already satisfied: numpy>=1.22.4 in c:\\users\\utilisateur\\.conda\\envs\\programmationavancee\\lib\\site-packages (from pandas) (1.26.1)\n",
      "Requirement already satisfied: python-dateutil>=2.8.2 in c:\\users\\utilisateur\\.conda\\envs\\programmationavancee\\lib\\site-packages (from pandas) (2.8.2)\n",
      "Requirement already satisfied: pytz>=2020.1 in c:\\users\\utilisateur\\.conda\\envs\\programmationavancee\\lib\\site-packages (from pandas) (2022.7)\n",
      "Collecting tzdata>=2022.1 (from pandas)\n",
      "  Downloading tzdata-2023.3-py2.py3-none-any.whl (341 kB)\n",
      "     ---------------------------------------- 0.0/341.8 kB ? eta -:--:--\n",
      "     --- ----------------------------------- 30.7/341.8 kB 1.3 MB/s eta 0:00:01\n",
      "     --------------- ---------------------- 143.4/341.8 kB 2.1 MB/s eta 0:00:01\n",
      "     --------------------------- ---------- 245.8/341.8 kB 2.1 MB/s eta 0:00:01\n",
      "     -------------------------------------  337.9/341.8 kB 2.1 MB/s eta 0:00:01\n",
      "     -------------------------------------- 341.8/341.8 kB 1.9 MB/s eta 0:00:00\n",
      "Requirement already satisfied: six>=1.5 in c:\\users\\utilisateur\\.conda\\envs\\programmationavancee\\lib\\site-packages (from python-dateutil>=2.8.2->pandas) (1.16.0)\n",
      "Downloading pandas-2.1.1-cp310-cp310-win_amd64.whl (10.7 MB)\n",
      "   ---------------------------------------- 0.0/10.7 MB ? eta -:--:--\n",
      "   ---------------------------------------- 0.1/10.7 MB 1.7 MB/s eta 0:00:07\n",
      "    --------------------------------------- 0.2/10.7 MB 2.9 MB/s eta 0:00:04\n",
      "   - -------------------------------------- 0.4/10.7 MB 3.1 MB/s eta 0:00:04\n",
      "   -- ------------------------------------- 0.5/10.7 MB 3.1 MB/s eta 0:00:04\n",
      "   -- ------------------------------------- 0.8/10.7 MB 3.6 MB/s eta 0:00:03\n",
      "   --- ------------------------------------ 0.9/10.7 MB 3.4 MB/s eta 0:00:03\n",
      "   ---- ----------------------------------- 1.2/10.7 MB 3.7 MB/s eta 0:00:03\n",
      "   ----- ---------------------------------- 1.4/10.7 MB 3.9 MB/s eta 0:00:03\n",
      "   ------ --------------------------------- 1.6/10.7 MB 4.0 MB/s eta 0:00:03\n",
      "   ------- -------------------------------- 1.9/10.7 MB 4.3 MB/s eta 0:00:03\n",
      "   ------- -------------------------------- 2.1/10.7 MB 4.2 MB/s eta 0:00:03\n",
      "   --------- ------------------------------ 2.5/10.7 MB 4.5 MB/s eta 0:00:02\n",
      "   ---------- ----------------------------- 2.8/10.7 MB 4.7 MB/s eta 0:00:02\n",
      "   ----------- ---------------------------- 3.1/10.7 MB 4.9 MB/s eta 0:00:02\n",
      "   ------------ --------------------------- 3.5/10.7 MB 5.0 MB/s eta 0:00:02\n",
      "   ------------- -------------------------- 3.7/10.7 MB 5.2 MB/s eta 0:00:02\n",
      "   -------------- ------------------------- 4.0/10.7 MB 5.2 MB/s eta 0:00:02\n",
      "   --------------- ------------------------ 4.2/10.7 MB 5.0 MB/s eta 0:00:02\n",
      "   ----------------- ---------------------- 4.6/10.7 MB 5.2 MB/s eta 0:00:02\n",
      "   ------------------ --------------------- 4.9/10.7 MB 5.3 MB/s eta 0:00:02\n",
      "   ------------------ --------------------- 5.0/10.7 MB 5.3 MB/s eta 0:00:02\n",
      "   ------------------ --------------------- 5.0/10.7 MB 5.3 MB/s eta 0:00:02\n",
      "   ------------------ --------------------- 5.1/10.7 MB 4.9 MB/s eta 0:00:02\n",
      "   ------------------- -------------------- 5.3/10.7 MB 4.8 MB/s eta 0:00:02\n",
      "   --------------------- ------------------ 5.7/10.7 MB 4.9 MB/s eta 0:00:02\n",
      "   --------------------- ------------------ 5.9/10.7 MB 4.9 MB/s eta 0:00:01\n",
      "   ---------------------- ----------------- 6.0/10.7 MB 4.9 MB/s eta 0:00:01\n",
      "   ----------------------- ---------------- 6.2/10.7 MB 4.8 MB/s eta 0:00:01\n",
      "   ------------------------ --------------- 6.6/10.7 MB 4.9 MB/s eta 0:00:01\n",
      "   -------------------------- ------------- 7.1/10.7 MB 5.1 MB/s eta 0:00:01\n",
      "   ---------------------------- ----------- 7.5/10.7 MB 5.2 MB/s eta 0:00:01\n",
      "   ----------------------------- ---------- 7.9/10.7 MB 5.3 MB/s eta 0:00:01\n",
      "   ------------------------------ --------- 8.2/10.7 MB 5.4 MB/s eta 0:00:01\n",
      "   ------------------------------- -------- 8.5/10.7 MB 5.4 MB/s eta 0:00:01\n",
      "   --------------------------------- ------ 8.8/10.7 MB 5.5 MB/s eta 0:00:01\n",
      "   ---------------------------------- ----- 9.1/10.7 MB 5.5 MB/s eta 0:00:01\n",
      "   ---------------------------------- ----- 9.3/10.7 MB 5.4 MB/s eta 0:00:01\n",
      "   ------------------------------------ --- 9.6/10.7 MB 5.5 MB/s eta 0:00:01\n",
      "   ------------------------------------ --- 9.9/10.7 MB 5.5 MB/s eta 0:00:01\n",
      "   ------------------------------------- -- 10.0/10.7 MB 5.4 MB/s eta 0:00:01\n",
      "   -------------------------------------- - 10.2/10.7 MB 5.4 MB/s eta 0:00:01\n",
      "   ---------------------------------------  10.5/10.7 MB 5.5 MB/s eta 0:00:01\n",
      "   ---------------------------------------  10.7/10.7 MB 5.6 MB/s eta 0:00:01\n",
      "   ---------------------------------------- 10.7/10.7 MB 5.5 MB/s eta 0:00:00\n",
      "Installing collected packages: tzdata, pandas\n",
      "Successfully installed pandas-2.1.1 tzdata-2023.3\n",
      "Requirement already satisfied: h5py in c:\\users\\utilisateur\\.conda\\envs\\programmationavancee\\lib\\site-packages (3.10.0)\n",
      "Requirement already satisfied: numpy>=1.17.3 in c:\\users\\utilisateur\\.conda\\envs\\programmationavancee\\lib\\site-packages (from h5py) (1.26.1)\n"
     ]
    },
    {
     "ename": "ModuleNotFoundError",
     "evalue": "No module named 'utilities'",
     "output_type": "error",
     "traceback": [
      "\u001b[1;31m---------------------------------------------------------------------------\u001b[0m",
      "\u001b[1;31mModuleNotFoundError\u001b[0m                       Traceback (most recent call last)",
      "\u001b[1;32mc:\\Users\\Utilisateur\\Documents\\UVSQ\\FI_3\\ProgrammationAvanceeFI3\\src\\TP\\Exo2RN1LayerMFeature.ipynb Cell 1\u001b[0m line \u001b[0;36m1\n\u001b[0;32m      <a href='vscode-notebook-cell:/c%3A/Users/Utilisateur/Documents/UVSQ/FI_3/ProgrammationAvanceeFI3/src/TP/Exo2RN1LayerMFeature.ipynb#W0sZmlsZQ%3D%3D?line=7'>8</a>\u001b[0m \u001b[39mfrom\u001b[39;00m \u001b[39msklearn\u001b[39;00m\u001b[39m.\u001b[39;00m\u001b[39mmetrics\u001b[39;00m \u001b[39mimport\u001b[39;00m accuracy_score\n\u001b[0;32m      <a href='vscode-notebook-cell:/c%3A/Users/Utilisateur/Documents/UVSQ/FI_3/ProgrammationAvanceeFI3/src/TP/Exo2RN1LayerMFeature.ipynb#W0sZmlsZQ%3D%3D?line=8'>9</a>\u001b[0m get_ipython()\u001b[39m.\u001b[39msystem(\u001b[39m'\u001b[39m\u001b[39mpip install h5py\u001b[39m\u001b[39m'\u001b[39m)\n\u001b[1;32m---> <a href='vscode-notebook-cell:/c%3A/Users/Utilisateur/Documents/UVSQ/FI_3/ProgrammationAvanceeFI3/src/TP/Exo2RN1LayerMFeature.ipynb#W0sZmlsZQ%3D%3D?line=9'>10</a>\u001b[0m \u001b[39mfrom\u001b[39;00m \u001b[39mutilities\u001b[39;00m \u001b[39mimport\u001b[39;00m \u001b[39m*\u001b[39m\n\u001b[0;32m     <a href='vscode-notebook-cell:/c%3A/Users/Utilisateur/Documents/UVSQ/FI_3/ProgrammationAvanceeFI3/src/TP/Exo2RN1LayerMFeature.ipynb#W0sZmlsZQ%3D%3D?line=10'>11</a>\u001b[0m \u001b[39mfrom\u001b[39;00m \u001b[39mtqdm\u001b[39;00m \u001b[39mimport\u001b[39;00m tqdm\n\u001b[0;32m     <a href='vscode-notebook-cell:/c%3A/Users/Utilisateur/Documents/UVSQ/FI_3/ProgrammationAvanceeFI3/src/TP/Exo2RN1LayerMFeature.ipynb#W0sZmlsZQ%3D%3D?line=11'>12</a>\u001b[0m \u001b[39mimport\u001b[39;00m \u001b[39mmatplotlib\u001b[39;00m\u001b[39m.\u001b[39;00m\u001b[39mpyplot\u001b[39;00m \u001b[39mas\u001b[39;00m \u001b[39mplt\u001b[39;00m\n",
      "\u001b[1;31mModuleNotFoundError\u001b[0m: No module named 'utilities'"
     ]
    }
   ],
   "source": [
    "!pip install numpy\n",
    "!pip install scikit-learn\n",
    "!pip3 install utilities-package\n",
    "!pip install python-utils\n",
    "!pip install pandas\n",
    "import numpy as np\n",
    "from sklearn.datasets import make_blobs\n",
    "from sklearn.metrics import accuracy_score\n",
    "!pip install h5py\n",
    "from utilities import *\n",
    "from tqdm import tqdm\n",
    "import matplotlib.pyplot as plt"
   ]
  },
  {
   "cell_type": "code",
   "execution_count": null,
   "metadata": {},
   "outputs": [],
   "source": []
  },
  {
   "cell_type": "code",
   "execution_count": null,
   "metadata": {},
   "outputs": [],
   "source": []
  }
 ],
 "metadata": {
  "kernelspec": {
   "display_name": "ProgrammationAvancee",
   "language": "python",
   "name": "python3"
  },
  "language_info": {
   "codemirror_mode": {
    "name": "ipython",
    "version": 3
   },
   "file_extension": ".py",
   "mimetype": "text/x-python",
   "name": "python",
   "nbconvert_exporter": "python",
   "pygments_lexer": "ipython3",
   "version": "3.10.13"
  }
 },
 "nbformat": 4,
 "nbformat_minor": 2
}
