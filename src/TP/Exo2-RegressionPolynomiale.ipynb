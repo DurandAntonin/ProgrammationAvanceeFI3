{
 "cells": [
  {
   "cell_type": "markdown",
   "metadata": {},
   "source": [
    "# Régression polynomiale simple"
   ]
  },
  {
   "cell_type": "code",
   "execution_count": 1,
   "metadata": {},
   "outputs": [],
   "source": [
    "import pandas as pd \n",
    "import numpy as np\n",
    "\n",
    "from sklearn.datasets import make_regression\n",
    "\n",
    "import seaborn as sns\n",
    "from matplotlib import pyplot as plt"
   ]
  },
  {
   "cell_type": "markdown",
   "metadata": {},
   "source": [
    "## Création du dataset"
   ]
  },
  {
   "cell_type": "code",
   "execution_count": 2,
   "metadata": {},
   "outputs": [
    {
     "name": "stdout",
     "output_type": "stream",
     "text": [
      "<bound method NDFrame.head of     Unnamed: 0  Obs  Age  TxDDT  Unnamed: 4\n",
      "0            1    1    2   0.20         NaN\n",
      "1            2    2    2   0.25         NaN\n",
      "2            3    3    2   0.18         NaN\n",
      "3            4    4    3   0.19         NaN\n",
      "4            5    5    3   0.29         NaN\n",
      "5            6    6    3   0.28         NaN\n",
      "6            7    7    4   0.31         NaN\n",
      "7            8    8    4   0.33         NaN\n",
      "8            9    9    4   0.36         NaN\n",
      "9           10   10    5   0.71         NaN\n",
      "10          11   11    5   0.38         NaN\n",
      "11          12   12    5   0.47         NaN\n",
      "12          13   13    6   1.10         NaN\n",
      "13          14   14    6   0.87         NaN\n",
      "14          15   15    6   0.83         NaN>\n",
      "<bound method NDFrame.head of     Age  TxDDT\n",
      "0     2   0.20\n",
      "1     2   0.25\n",
      "2     2   0.18\n",
      "3     3   0.19\n",
      "4     3   0.29\n",
      "5     3   0.28\n",
      "6     4   0.31\n",
      "7     4   0.33\n",
      "8     4   0.36\n",
      "9     5   0.71\n",
      "10    5   0.38\n",
      "11    5   0.47\n",
      "12    6   1.10\n",
      "13    6   0.87\n",
      "14    6   0.83>\n"
     ]
    }
   ],
   "source": [
    "#cette fois, nous avons un dataset à notre disposition\n",
    "df = pd.read_csv(\"../Data/DDT.data\",delimiter=\" \")\n",
    "\n",
    "print(df.head)\n",
    "\n",
    "#on enleve les lignes et colonnes nulles ainsi que la colonne Obs et Unnamded\n",
    "df = df.dropna(axis=1)\n",
    "df = df.drop([\"Unnamed: 0\", \"Obs\"], axis=1)\n",
    "print(df.head)"
   ]
  },
  {
   "cell_type": "code",
   "execution_count": 3,
   "metadata": {},
   "outputs": [
    {
     "name": "stdout",
     "output_type": "stream",
     "text": [
      "(15, 1)\n",
      "(15, 1)\n",
      "[[2]\n",
      " [2]\n",
      " [2]\n",
      " [3]\n",
      " [3]\n",
      " [3]\n",
      " [4]\n",
      " [4]\n",
      " [4]\n",
      " [5]\n",
      " [5]\n",
      " [5]\n",
      " [6]\n",
      " [6]\n",
      " [6]]\n",
      "[[0.2 ]\n",
      " [0.25]\n",
      " [0.18]\n",
      " [0.19]\n",
      " [0.29]\n",
      " [0.28]\n",
      " [0.31]\n",
      " [0.33]\n",
      " [0.36]\n",
      " [0.71]\n",
      " [0.38]\n",
      " [0.47]\n",
      " [1.1 ]\n",
      " [0.87]\n",
      " [0.83]]\n"
     ]
    }
   ],
   "source": [
    "x = np.array(df[\"Age\"])\n",
    "y = np.array(df[\"TxDDT\"])\n",
    "x = x.reshape(x.shape[0], 1)\n",
    "y=y.reshape(y.shape[0], 1)\n",
    "\n",
    "print(x.shape)\n",
    "print(y.shape)\n",
    "print(x)\n",
    "print(y)"
   ]
  },
  {
   "cell_type": "code",
   "execution_count": 4,
   "metadata": {},
   "outputs": [
    {
     "data": {
      "text/plain": [
       "<matplotlib.collections.PathCollection at 0x173552d9dd0>"
      ]
     },
     "execution_count": 4,
     "metadata": {},
     "output_type": "execute_result"
    },
    {
     "data": {
      "image/png": "[encoded data removed]",
      "text/plain": [
       "<Figure size 640x480 with 1 Axes>"
      ]
     },
     "metadata": {},
     "output_type": "display_data"
    }
   ],
   "source": [
    "# Représentation graphique du modèle\n",
    "plt.scatter(x,y)"
   ]
  },
  {
   "cell_type": "markdown",
   "metadata": {},
   "source": [
    "## Modèle"
   ]
  },
  {
   "cell_type": "code",
   "execution_count": 5,
   "metadata": {},
   "outputs": [],
   "source": [
    "#notre modèle qui calcule les y_predictions en fonction de x\n",
    "def model(X, theta):\n",
    "    return np.dot(X, theta)"
   ]
  },
  {
   "cell_type": "markdown",
   "metadata": {},
   "source": [
    "## Fonction de coûts"
   ]
  },
  {
   "cell_type": "code",
   "execution_count": 6,
   "metadata": {},
   "outputs": [],
   "source": [
    "#Notre modèle n'est pas très efficace, on créé donc une fonction de coût F qui est la moyenne des erreurs quadratiques\n",
    "def cout(X, y, theta):\n",
    "    return (1/(2*len(y))) * np.sum((model(X, theta) - y)**2)\n"
   ]
  },
  {
   "cell_type": "markdown",
   "metadata": {},
   "source": [
    "## Descente de Gradient (DG)"
   ]
  },
  {
   "cell_type": "code",
   "execution_count": 7,
   "metadata": {},
   "outputs": [],
   "source": [
    "#Maintenant, on utilise la descente de gradients pour minimiser la fonction F et trouver les paramètres a, b optimaux\n",
    "def gradient(X, y, theta):\n",
    "    return (1/len(y)) * np.dot(X.T, (model(X, theta) - y))\n",
    "\n",
    "def descenteGradient(X, y, theta, learning_rate, n_iterations):\n",
    "    histCout=np.zeros(n_iterations)\n",
    "    for iteration in range(0, n_iterations):\n",
    "        theta = theta - learning_rate*gradient(X, y, theta)\n",
    "        histCout[iteration]= cout(X,y,theta)\n",
    "\n",
    "    return theta, histCout\n",
    "\n",
    "def coefDet(y, y_predictions):\n",
    "    u=((y-y_predictions)**2).sum()\n",
    "    v=((y-y.mean())**2).sum()\n",
    "    return 1-u/v"
   ]
  },
  {
   "cell_type": "markdown",
   "metadata": {},
   "source": [
    "## Prédiction du modèle à l'aide d'une régression linéaire simple"
   ]
  },
  {
   "cell_type": "code",
   "execution_count": 8,
   "metadata": {},
   "outputs": [
    {
     "name": "stdout",
     "output_type": "stream",
     "text": [
      "(15, 2)\n",
      "[[2. 1.]\n",
      " [2. 1.]\n",
      " [2. 1.]\n",
      " [3. 1.]\n",
      " [3. 1.]\n",
      " [3. 1.]\n",
      " [4. 1.]\n",
      " [4. 1.]\n",
      " [4. 1.]\n",
      " [5. 1.]\n",
      " [5. 1.]\n",
      " [5. 1.]\n",
      " [6. 1.]\n",
      " [6. 1.]\n",
      " [6. 1.]]\n"
     ]
    }
   ],
   "source": [
    "#on créé une matrice de contenant tous les x, et une colonne de 1 pour simplifier les calculs\n",
    "X = np.hstack((x, np.ones(x.shape)))\n",
    "print(X.shape)\n",
    "print(X)"
   ]
  },
  {
   "cell_type": "code",
   "execution_count": 9,
   "metadata": {},
   "outputs": [
    {
     "name": "stdout",
     "output_type": "stream",
     "text": [
      "(2, 1)\n",
      "[[0.77781597]\n",
      " [1.35788192]]\n"
     ]
    }
   ],
   "source": [
    "#ici, on est face à un problème de regression linéaire, où le modèle F est une fonction affine avec 2 paramètres a et b, tel que F(x) = ax + b\n",
    "#on stocke dans une matrice nommée theta, les paramètres a et b\n",
    "#on prend pour l'instant deux entiers a et b aléatoires pour voir comment s'en sort notre modèle\n",
    "theta = np.random.randn(2,1)\n",
    "print(theta.shape)\n",
    "print(theta)"
   ]
  },
  {
   "cell_type": "code",
   "execution_count": 10,
   "metadata": {},
   "outputs": [
    {
     "name": "stdout",
     "output_type": "stream",
     "text": [
      "(15, 1)\n",
      "[[2.91351387]\n",
      " [2.91351387]\n",
      " [2.91351387]\n",
      " [3.69132985]\n",
      " [3.69132985]\n",
      " [3.69132985]\n",
      " [4.46914582]\n",
      " [4.46914582]\n",
      " [4.46914582]\n",
      " [5.2469618 ]\n",
      " [5.2469618 ]\n",
      " [5.2469618 ]\n",
      " [6.02477777]\n",
      " [6.02477777]\n",
      " [6.02477777]]\n"
     ]
    }
   ],
   "source": [
    "#on calcule les y_predictions\n",
    "y_predictions = model(X, theta)\n",
    "print(y_predictions.shape)\n",
    "print(y_predictions)"
   ]
  },
  {
   "cell_type": "code",
   "execution_count": 11,
   "metadata": {},
   "outputs": [
    {
     "data": {
      "text/plain": [
       "[<matplotlib.lines.Line2D at 0x17355373d90>]"
      ]
     },
     "execution_count": 11,
     "metadata": {},
     "output_type": "execute_result"
    },
    {
     "data": {
      "image/png": "[encoded data removed]",
      "text/plain": [
       "<Figure size 640x480 with 1 Axes>"
      ]
     },
     "metadata": {},
     "output_type": "display_data"
    }
   ],
   "source": [
    "#on affiche notre modèle\n",
    "plt.scatter(x,y)\n",
    "plt.plot(x,y_predictions, c='r')\n",
    "\n",
    "\n",
    "#on constate que notre modèle n'est pas très fidèle à la réalité, il faut donc optimiser les paramètres a et b pour trouver le bon modèle."
   ]
  },
  {
   "cell_type": "code",
   "execution_count": 12,
   "metadata": {},
   "outputs": [
    {
     "name": "stdout",
     "output_type": "stream",
     "text": [
      "8.453759320783233\n"
     ]
    }
   ],
   "source": [
    "F = cout(X, y, theta)\n",
    "print(F)"
   ]
  },
  {
   "cell_type": "code",
   "execution_count": 13,
   "metadata": {},
   "outputs": [
    {
     "name": "stdout",
     "output_type": "stream",
     "text": [
      "(2, 1)\n",
      "[[-0.10782485]\n",
      " [ 1.0134911 ]]\n"
     ]
    }
   ],
   "source": [
    "#on calcule les nouveaux paramètres theta\n",
    "resultDescenteGradient = descenteGradient(X, y, theta, 0.001, 1000)\n",
    "newTheta = resultDescenteGradient[0]\n",
    "varCout = resultDescenteGradient[1]\n",
    "\n",
    "print(newTheta.shape)\n",
    "print(newTheta)\n",
    "#print(varCout)"
   ]
  },
  {
   "cell_type": "code",
   "execution_count": 14,
   "metadata": {},
   "outputs": [
    {
     "data": {
      "text/plain": [
       "[<matplotlib.lines.Line2D at 0x173575142d0>]"
      ]
     },
     "execution_count": 14,
     "metadata": {},
     "output_type": "execute_result"
    },
    {
     "data": {
      "image/png": "[encoded data removed]",
      "text/plain": [
       "<Figure size 640x480 with 1 Axes>"
      ]
     },
     "metadata": {},
     "output_type": "display_data"
    }
   ],
   "source": [
    "#on calcule de nouveaux les y_predictions avec les bon theta\n",
    "y_predictions = model(X, newTheta)\n",
    "\n",
    "plt.scatter(x, y)\n",
    "plt.plot(x, y_predictions, c='red')"
   ]
  },
  {
   "cell_type": "code",
   "execution_count": 15,
   "metadata": {},
   "outputs": [
    {
     "data": {
      "text/plain": [
       "[<matplotlib.lines.Line2D at 0x173575686d0>]"
      ]
     },
     "execution_count": 15,
     "metadata": {},
     "output_type": "execute_result"
    },
    {
     "data": {
      "image/png": "[encoded data removed]",
      "text/plain": [
       "<Figure size 640x480 with 1 Axes>"
      ]
     },
     "metadata": {},
     "output_type": "display_data"
    }
   ],
   "source": [
    "#on affiche la variation des couts au fil de la descente des gradients\n",
    "plt.plot([i for i in range(1000)], varCout)"
   ]
  },
  {
   "cell_type": "code",
   "execution_count": 16,
   "metadata": {},
   "outputs": [
    {
     "name": "stdout",
     "output_type": "stream",
     "text": [
      "-1.4875801124989985\n"
     ]
    }
   ],
   "source": [
    "#on calcule le coefficient de prédiction, plus le chiffre est proche de 1, mieux la prédiction est fidèle à la réalité\n",
    "coeffPredictions = coefDet(y, y_predictions)\n",
    "print(coeffPredictions)\n",
    "\n",
    "#on constate que la régression linéaire ne produit pas un assez bon modèle, on utilise donc un autre modèle qui est la régression polynomiale F avec maintenant 3 paramètres a, b et c, tel que F(x) = ax^2 + bx + c"
   ]
  },
  {
   "cell_type": "markdown",
   "metadata": {},
   "source": [
    "## Prédiction du modèle à l'aide d'une régression polynômiale "
   ]
  },
  {
   "cell_type": "code",
   "execution_count": 17,
   "metadata": {},
   "outputs": [
    {
     "name": "stdout",
     "output_type": "stream",
     "text": [
      "(3, 1)\n",
      "[[-0.43882191]\n",
      " [-0.48719066]\n",
      " [ 1.94198948]]\n"
     ]
    }
   ],
   "source": [
    "#il suffit de changer le theta, et X\n",
    "theta_pol = np.random.randn(3,1)\n",
    "print(theta_pol.shape)\n",
    "print(theta_pol)"
   ]
  },
  {
   "cell_type": "code",
   "execution_count": 18,
   "metadata": {},
   "outputs": [
    {
     "name": "stdout",
     "output_type": "stream",
     "text": [
      "(15, 3)\n",
      "[[ 4.  2.  1.]\n",
      " [ 4.  2.  1.]\n",
      " [ 4.  2.  1.]\n",
      " [ 9.  3.  1.]\n",
      " [ 9.  3.  1.]\n",
      " [ 9.  3.  1.]\n",
      " [16.  4.  1.]\n",
      " [16.  4.  1.]\n",
      " [16.  4.  1.]\n",
      " [25.  5.  1.]\n",
      " [25.  5.  1.]\n",
      " [25.  5.  1.]\n",
      " [36.  6.  1.]\n",
      " [36.  6.  1.]\n",
      " [36.  6.  1.]]\n"
     ]
    }
   ],
   "source": [
    "X_pol = np.hstack((x**2, x, np.ones(x.shape)))\n",
    "print(X_pol.shape)\n",
    "print(X_pol)"
   ]
  },
  {
   "cell_type": "code",
   "execution_count": 19,
   "metadata": {},
   "outputs": [
    {
     "name": "stdout",
     "output_type": "stream",
     "text": [
      "(3, 1)\n",
      "[[ 0.11895931]\n",
      " [-0.83584044]\n",
      " [ 1.6917295 ]]\n"
     ]
    }
   ],
   "source": [
    "#on optimise le modèle avec la descente de gradient\n",
    "resultDescenteGradientPol = descenteGradient(X_pol, y, theta_pol, 0.002, 1000)\n",
    "newThetaPol = resultDescenteGradientPol[0]\n",
    "varCoutPol = resultDescenteGradientPol[1]\n",
    "\n",
    "print(newThetaPol.shape)\n",
    "print(newThetaPol)"
   ]
  },
  {
   "cell_type": "code",
   "execution_count": 20,
   "metadata": {},
   "outputs": [
    {
     "name": "stdout",
     "output_type": "stream",
     "text": [
      "[[0.49588588]\n",
      " [0.49588588]\n",
      " [0.49588588]\n",
      " [0.25484201]\n",
      " [0.25484201]\n",
      " [0.25484201]\n",
      " [0.25171677]\n",
      " [0.25171677]\n",
      " [0.25171677]\n",
      " [0.48651016]\n",
      " [0.48651016]\n",
      " [0.48651016]\n",
      " [0.95922217]\n",
      " [0.95922217]\n",
      " [0.95922217]]\n"
     ]
    },
    {
     "data": {
      "text/plain": [
       "[<matplotlib.lines.Line2D at 0x173574f4990>]"
      ]
     },
     "execution_count": 20,
     "metadata": {},
     "output_type": "execute_result"
    },
    {
     "data": {
      "image/png": "[encoded data removed]",
      "text/plain": [
       "<Figure size 640x480 with 1 Axes>"
      ]
     },
     "metadata": {},
     "output_type": "display_data"
    }
   ],
   "source": [
    "y_predictions_pol = model(X_pol, newThetaPol)\n",
    "print(y_predictions_pol)\n",
    "plt.scatter(x, y)\n",
    "plt.plot(x, y_predictions_pol, c='red')"
   ]
  },
  {
   "cell_type": "code",
   "execution_count": 21,
   "metadata": {},
   "outputs": [
    {
     "data": {
      "text/plain": [
       "[<matplotlib.lines.Line2D at 0x173576788d0>]"
      ]
     },
     "execution_count": 21,
     "metadata": {},
     "output_type": "execute_result"
    },
    {
     "data": {
      "image/png": "[encoded data removed]",
      "text/plain": [
       "<Figure size 640x480 with 1 Axes>"
      ]
     },
     "metadata": {},
     "output_type": "display_data"
    }
   ],
   "source": [
    "#on affiche la variation des couts au fil de la descente des gradients\n",
    "plt.plot([i for i in range(1000)], varCoutPol)"
   ]
  },
  {
   "cell_type": "code",
   "execution_count": 22,
   "metadata": {},
   "outputs": [
    {
     "name": "stdout",
     "output_type": "stream",
     "text": [
      "0.6702212894922177\n"
     ]
    }
   ],
   "source": [
    "#on calcule le coefficient de prédiction, plus le chiffre est proche de 1, mieux la prédiction est fidèle à la réalité\n",
    "coeffPredictions_pol = coefDet(y, y_predictions_pol)\n",
    "print(coeffPredictions_pol)"
   ]
  }
 ],
 "metadata": {
  "kernelspec": {
   "display_name": "Python 3",
   "language": "python",
   "name": "python3"
  },
  "language_info": {
   "codemirror_mode": {
    "name": "ipython",
    "version": 3
   },
   "file_extension": ".py",
   "mimetype": "text/x-python",
   "name": "python",
   "nbconvert_exporter": "python",
   "pygments_lexer": "ipython3",
   "version": "3.11.5"
  },
  "orig_nbformat": 4
 },
 "nbformat": 4,
 "nbformat_minor": 2
}
