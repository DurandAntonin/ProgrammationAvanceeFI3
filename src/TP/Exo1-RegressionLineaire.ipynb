{
 "cells": [
  {
   "cell_type": "markdown",
   "metadata": {},
   "source": [
    "# Régression linéaire simple"
   ]
  },
  {
   "cell_type": "code",
   "execution_count": 2,
   "metadata": {},
   "outputs": [],
   "source": [
    "import pandas as pd \n",
    "import numpy as np\n",
    "\n",
    "from sklearn.datasets import make_regression\n",
    "\n",
    "import seaborn as sns\n",
    "from matplotlib import pyplot as plt"
   ]
  },
  {
   "cell_type": "markdown",
   "metadata": {},
   "source": [
    "## Création du dataset"
   ]
  },
  {
   "cell_type": "code",
   "execution_count": 10,
   "metadata": {},
   "outputs": [
    {
     "name": "stdout",
     "output_type": "stream",
     "text": [
      "(200, 1)\n",
      "(200, 1)\n"
     ]
    }
   ],
   "source": [
    "#on génère un problème de régression linéaire avec du bruit\n",
    "x,y = make_regression(n_samples=200, n_features=1, noise=20)\n",
    "y=y.reshape(y.shape[0], 1)\n",
    "\n",
    "print(x.shape)\n",
    "print(y.shape)"
   ]
  },
  {
   "cell_type": "code",
   "execution_count": 11,
   "metadata": {},
   "outputs": [
    {
     "data": {
      "text/plain": [
       "<matplotlib.collections.PathCollection at 0x188e76b1ad0>"
      ]
     },
     "execution_count": 11,
     "metadata": {},
     "output_type": "execute_result"
    },
    {
     "data": {
      "image/png": "[encoded data removed]",
      "text/plain": [
       "<Figure size 640x480 with 1 Axes>"
      ]
     },
     "metadata": {},
     "output_type": "display_data"
    }
   ],
   "source": [
    "# Représentation graphique du modèle\n",
    "plt.scatter(x,y)"
   ]
  },
  {
   "cell_type": "markdown",
   "metadata": {},
   "source": [
    "## Création du modèle"
   ]
  },
  {
   "cell_type": "code",
   "execution_count": 12,
   "metadata": {},
   "outputs": [
    {
     "name": "stdout",
     "output_type": "stream",
     "text": [
      "(200, 2)\n",
      "[[-0.1891692   1.        ]\n",
      " [-1.45954632  1.        ]\n",
      " [ 2.92214337  1.        ]\n",
      " [-0.08283763  1.        ]\n",
      " [ 0.11442071  1.        ]\n",
      " [ 1.54032806  1.        ]\n",
      " [ 0.39811171  1.        ]\n",
      " [-0.77648775  1.        ]\n",
      " [-0.06940035  1.        ]\n",
      " [ 0.04417455  1.        ]\n",
      " [-1.24392088  1.        ]\n",
      " [-0.08415508  1.        ]\n",
      " [-0.27138896  1.        ]\n",
      " [ 0.48121573  1.        ]\n",
      " [-1.07836659  1.        ]\n",
      " [-0.54370698  1.        ]\n",
      " [-0.4517245   1.        ]\n",
      " [-0.90417552  1.        ]\n",
      " [ 0.13379138  1.        ]\n",
      " [-0.80537619  1.        ]\n",
      " [-0.97743431  1.        ]\n",
      " [ 0.6067123   1.        ]\n",
      " [ 2.04633907  1.        ]\n",
      " [-2.6319041   1.        ]\n",
      " [ 0.36608858  1.        ]\n",
      " [ 0.71192601  1.        ]\n",
      " [-1.75301377  1.        ]\n",
      " [-0.81210507  1.        ]\n",
      " [-0.39277357  1.        ]\n",
      " [ 1.34206159  1.        ]\n",
      " [-0.53477912  1.        ]\n",
      " [ 0.59376304  1.        ]\n",
      " [ 1.70526987  1.        ]\n",
      " [-0.29835001  1.        ]\n",
      " [ 1.13325886  1.        ]\n",
      " [-1.11156801  1.        ]\n",
      " [ 2.31698935  1.        ]\n",
      " [-0.0870909   1.        ]\n",
      " [ 0.42242941  1.        ]\n",
      " [-0.85978567  1.        ]\n",
      " [ 0.77535626  1.        ]\n",
      " [ 1.09788173  1.        ]\n",
      " [ 1.56360445  1.        ]\n",
      " [ 0.24792387  1.        ]\n",
      " [-0.0720125   1.        ]\n",
      " [ 0.04526335  1.        ]\n",
      " [ 2.01517368  1.        ]\n",
      " [ 0.56876008  1.        ]\n",
      " [-0.39978787  1.        ]\n",
      " [-0.70069627  1.        ]\n",
      " [-0.29150399  1.        ]\n",
      " [-1.15281133  1.        ]\n",
      " [-0.57649458  1.        ]\n",
      " [ 0.07794246  1.        ]\n",
      " [ 0.0218594   1.        ]\n",
      " [ 0.81355794  1.        ]\n",
      " [-0.52490322  1.        ]\n",
      " [ 0.14009815  1.        ]\n",
      " [-0.95226575  1.        ]\n",
      " [-1.65574974  1.        ]\n",
      " [-0.63709172  1.        ]\n",
      " [-0.05284851  1.        ]\n",
      " [ 1.89248343  1.        ]\n",
      " [ 1.25425185  1.        ]\n",
      " [ 0.25140309  1.        ]\n",
      " [-0.66132523  1.        ]\n",
      " [-0.36866857  1.        ]\n",
      " [ 0.70878796  1.        ]\n",
      " [-1.19016924  1.        ]\n",
      " [-0.44566556  1.        ]\n",
      " [-1.14520045  1.        ]\n",
      " [ 0.74819224  1.        ]\n",
      " [-0.56724136  1.        ]\n",
      " [-1.17648443  1.        ]\n",
      " [-0.73401726  1.        ]\n",
      " [ 2.56400172  1.        ]\n",
      " [-0.3696332   1.        ]\n",
      " [ 0.97321882  1.        ]\n",
      " [-0.17793014  1.        ]\n",
      " [-0.5253871   1.        ]\n",
      " [ 1.8020296   1.        ]\n",
      " [-1.17869372  1.        ]\n",
      " [-0.06047731  1.        ]\n",
      " [-0.46338245  1.        ]\n",
      " [ 1.53630512  1.        ]\n",
      " [ 0.36306567  1.        ]\n",
      " [-0.5449492   1.        ]\n",
      " [-0.27478214  1.        ]\n",
      " [-0.78919715  1.        ]\n",
      " [ 1.7297746   1.        ]\n",
      " [ 0.06955435  1.        ]\n",
      " [-0.09458545  1.        ]\n",
      " [-0.56572202  1.        ]\n",
      " [ 0.20571635  1.        ]\n",
      " [ 1.56041025  1.        ]\n",
      " [-2.75818325  1.        ]\n",
      " [-0.83400206  1.        ]\n",
      " [-0.67651924  1.        ]\n",
      " [-0.66827584  1.        ]\n",
      " [-0.55806723  1.        ]\n",
      " [ 1.92723091  1.        ]\n",
      " [ 0.34606727  1.        ]\n",
      " [-0.02688821  1.        ]\n",
      " [ 0.05591455  1.        ]\n",
      " [ 1.2162133   1.        ]\n",
      " [ 0.63197969  1.        ]\n",
      " [-1.30596497  1.        ]\n",
      " [-1.58204444  1.        ]\n",
      " [-0.7201947   1.        ]\n",
      " [ 1.15979038  1.        ]\n",
      " [-1.49824047  1.        ]\n",
      " [-0.11697432  1.        ]\n",
      " [-0.30500715  1.        ]\n",
      " [ 1.9307466   1.        ]\n",
      " [ 1.33310796  1.        ]\n",
      " [-0.21581655  1.        ]\n",
      " [-0.93703137  1.        ]\n",
      " [ 0.74489939  1.        ]\n",
      " [-0.61564241  1.        ]\n",
      " [-0.8678022   1.        ]\n",
      " [ 0.02393319  1.        ]\n",
      " [ 0.41945384  1.        ]\n",
      " [-0.13735497  1.        ]\n",
      " [-0.44708139  1.        ]\n",
      " [ 1.05020114  1.        ]\n",
      " [ 0.6516488   1.        ]\n",
      " [-0.79866325  1.        ]\n",
      " [ 0.22997318  1.        ]\n",
      " [ 0.0559033   1.        ]\n",
      " [-1.56621933  1.        ]\n",
      " [ 1.01794956  1.        ]\n",
      " [ 0.28118676  1.        ]\n",
      " [ 0.85490178  1.        ]\n",
      " [-2.08168604  1.        ]\n",
      " [ 0.23162981  1.        ]\n",
      " [-1.46385976  1.        ]\n",
      " [ 1.80597963  1.        ]\n",
      " [-0.37229072  1.        ]\n",
      " [-0.28871428  1.        ]\n",
      " [-0.71680081  1.        ]\n",
      " [-0.70297712  1.        ]\n",
      " [ 0.09140024  1.        ]\n",
      " [-0.37710096  1.        ]\n",
      " [ 1.12565326  1.        ]\n",
      " [ 2.44541051  1.        ]\n",
      " [-0.9581869   1.        ]\n",
      " [ 0.22087253  1.        ]\n",
      " [-0.07224377  1.        ]\n",
      " [ 0.84376747  1.        ]\n",
      " [ 1.15713597  1.        ]\n",
      " [-0.76712073  1.        ]\n",
      " [ 0.82600357  1.        ]\n",
      " [ 0.66054967  1.        ]\n",
      " [-0.96048929  1.        ]\n",
      " [-0.42724023  1.        ]\n",
      " [-1.89627039  1.        ]\n",
      " [ 0.02179182  1.        ]\n",
      " [-1.14492225  1.        ]\n",
      " [-0.78835784  1.        ]\n",
      " [ 0.22864761  1.        ]\n",
      " [-0.61182155  1.        ]\n",
      " [ 0.57251264  1.        ]\n",
      " [-0.7029472   1.        ]\n",
      " [-1.70580112  1.        ]\n",
      " [-1.00427127  1.        ]\n",
      " [ 0.10449577  1.        ]\n",
      " [ 0.6511146   1.        ]\n",
      " [ 0.26772348  1.        ]\n",
      " [ 0.15738209  1.        ]\n",
      " [-0.05102976  1.        ]\n",
      " [ 0.9541457   1.        ]\n",
      " [ 0.15736992  1.        ]\n",
      " [-0.29081602  1.        ]\n",
      " [-0.8056483   1.        ]\n",
      " [ 0.77583029  1.        ]\n",
      " [-0.24913672  1.        ]\n",
      " [ 0.0552676   1.        ]\n",
      " [ 0.06037071  1.        ]\n",
      " [-1.68853644  1.        ]\n",
      " [-0.37514157  1.        ]\n",
      " [-0.15208438  1.        ]\n",
      " [ 0.025325    1.        ]\n",
      " [ 0.61189243  1.        ]\n",
      " [ 0.69579005  1.        ]\n",
      " [-0.13828116  1.        ]\n",
      " [ 0.14416898  1.        ]\n",
      " [-1.69439739  1.        ]\n",
      " [ 0.45665326  1.        ]\n",
      " [ 0.40693291  1.        ]\n",
      " [ 1.43651694  1.        ]\n",
      " [-0.84994951  1.        ]\n",
      " [-0.69637812  1.        ]\n",
      " [ 0.16426616  1.        ]\n",
      " [-0.96292925  1.        ]\n",
      " [-1.12338665  1.        ]\n",
      " [ 0.72048262  1.        ]\n",
      " [ 0.04390734  1.        ]\n",
      " [-0.88816627  1.        ]\n",
      " [-1.4893246   1.        ]\n",
      " [ 1.89420473  1.        ]]\n"
     ]
    }
   ],
   "source": [
    "#on créé une matrice de contenant tous les x, et une colonne de 1 pour simplifier les calculs\n",
    "X = np.hstack((x, np.ones(x.shape)))\n",
    "print(X.shape)\n",
    "print(X)"
   ]
  },
  {
   "cell_type": "code",
   "execution_count": 13,
   "metadata": {},
   "outputs": [
    {
     "name": "stdout",
     "output_type": "stream",
     "text": [
      "(2, 1)\n",
      "[[-0.28675964]\n",
      " [-1.1537483 ]]\n"
     ]
    }
   ],
   "source": [
    "#ici, on est face à un problème de regression linéaire, où le modèle F est une fonction affine avec 2 paramètres a et b, tel que F(x) = ax + b\n",
    "#on stocke dans une matrice nommée theta, les paramètres a et b\n",
    "#on prend pour l'instant deux entiers a et b aléatoires pour voir comment s'en sort notre modèle\n",
    "theta = np.random.randn(2,1)\n",
    "print(theta.shape)\n",
    "print(theta)"
   ]
  },
  {
   "cell_type": "code",
   "execution_count": 14,
   "metadata": {},
   "outputs": [],
   "source": [
    "#notre modèle qui calcule les y_predictions en fonction de x\n",
    "def model(X, theta):\n",
    "    return np.dot(X, theta)"
   ]
  },
  {
   "cell_type": "code",
   "execution_count": 15,
   "metadata": {},
   "outputs": [
    {
     "name": "stdout",
     "output_type": "stream",
     "text": [
      "(200, 1)\n",
      "[[-1.09950221]\n",
      " [-0.73520932]\n",
      " [-1.99170109]\n",
      " [-1.12999382]\n",
      " [-1.18655955]\n",
      " [-1.59545222]\n",
      " [-1.26791068]\n",
      " [-0.93108296]\n",
      " [-1.13384709]\n",
      " [-1.16641578]\n",
      " [-0.797042  ]\n",
      " [-1.12961602]\n",
      " [-1.0759249 ]\n",
      " [-1.29174155]\n",
      " [-0.84451629]\n",
      " [-0.99783508]\n",
      " [-1.02421195]\n",
      " [-0.89446726]\n",
      " [-1.19211427]\n",
      " [-0.92279892]\n",
      " [-0.87345959]\n",
      " [-1.3277289 ]\n",
      " [-1.74055576]\n",
      " [-0.39902443]\n",
      " [-1.25872773]\n",
      " [-1.35789995]\n",
      " [-0.65105471]\n",
      " [-0.92086935]\n",
      " [-1.0411167 ]\n",
      " [-1.5385974 ]\n",
      " [-1.00039524]\n",
      " [-1.32401558]\n",
      " [-1.64275088]\n",
      " [-1.06819356]\n",
      " [-1.47872121]\n",
      " [-0.83499546]\n",
      " [-1.81816734]\n",
      " [-1.12877415]\n",
      " [-1.27488401]\n",
      " [-0.90719647]\n",
      " [-1.37608919]\n",
      " [-1.46857647]\n",
      " [-1.60212696]\n",
      " [-1.22484286]\n",
      " [-1.13309802]\n",
      " [-1.16672801]\n",
      " [-1.73161878]\n",
      " [-1.31684574]\n",
      " [-1.03910528]\n",
      " [-0.95281689]\n",
      " [-1.07015673]\n",
      " [-0.82316854]\n",
      " [-0.98843293]\n",
      " [-1.17609906]\n",
      " [-1.1600167 ]\n",
      " [-1.38704389]\n",
      " [-1.00322724]\n",
      " [-1.1939228 ]\n",
      " [-0.88067692]\n",
      " [-0.6789461 ]\n",
      " [-0.97105611]\n",
      " [-1.13859348]\n",
      " [-1.69643617]\n",
      " [-1.51341711]\n",
      " [-1.22584056]\n",
      " [-0.96410692]\n",
      " [-1.04802904]\n",
      " [-1.35700009]\n",
      " [-0.8124558 ]\n",
      " [-1.02594941]\n",
      " [-0.82535103]\n",
      " [-1.36829964]\n",
      " [-0.99108638]\n",
      " [-0.81638005]\n",
      " [-0.94326178]\n",
      " [-1.88900052]\n",
      " [-1.04775242]\n",
      " [-1.43282818]\n",
      " [-1.10272512]\n",
      " [-1.00308849]\n",
      " [-1.67049767]\n",
      " [-0.81574652]\n",
      " [-1.13640585]\n",
      " [-1.02086892]\n",
      " [-1.59429861]\n",
      " [-1.25786089]\n",
      " [-0.99747887]\n",
      " [-1.07495188]\n",
      " [-0.92743841]\n",
      " [-1.64977785]\n",
      " [-1.17369368]\n",
      " [-1.12662501]\n",
      " [-0.99152206]\n",
      " [-1.21273945]\n",
      " [-1.60121099]\n",
      " [-0.36281267]\n",
      " [-0.91459017]\n",
      " [-0.95974989]\n",
      " [-0.96211377]\n",
      " [-0.99371715]\n",
      " [-1.70640035]\n",
      " [-1.25298643]\n",
      " [-1.14603785]\n",
      " [-1.16978234]\n",
      " [-1.50250919]\n",
      " [-1.33497457]\n",
      " [-0.77925026]\n",
      " [-0.70008181]\n",
      " [-0.94722553]\n",
      " [-1.48632938]\n",
      " [-0.7241134 ]\n",
      " [-1.12020479]\n",
      " [-1.06628456]\n",
      " [-1.70740851]\n",
      " [-1.53602986]\n",
      " [-1.09186083]\n",
      " [-0.88504553]\n",
      " [-1.36735539]\n",
      " [-0.97720691]\n",
      " [-0.90489766]\n",
      " [-1.16061138]\n",
      " [-1.27403074]\n",
      " [-1.11436044]\n",
      " [-1.02554341]\n",
      " [-1.45490361]\n",
      " [-1.34061488]\n",
      " [-0.92472392]\n",
      " [-1.21969533]\n",
      " [-1.16977911]\n",
      " [-0.70461981]\n",
      " [-1.44565515]\n",
      " [-1.23438132]\n",
      " [-1.39889963]\n",
      " [-0.55680476]\n",
      " [-1.22017038]\n",
      " [-0.7339724 ]\n",
      " [-1.67163038]\n",
      " [-1.04699035]\n",
      " [-1.0709567 ]\n",
      " [-0.94819876]\n",
      " [-0.95216284]\n",
      " [-1.1799582 ]\n",
      " [-1.04561097]\n",
      " [-1.47654023]\n",
      " [-1.85499335]\n",
      " [-0.87897897]\n",
      " [-1.21708563]\n",
      " [-1.13303171]\n",
      " [-1.39570676]\n",
      " [-1.4855682 ]\n",
      " [-0.93376904]\n",
      " [-1.39061279]\n",
      " [-1.34316729]\n",
      " [-0.87831874]\n",
      " [-1.03123305]\n",
      " [-0.60997449]\n",
      " [-1.15999732]\n",
      " [-0.82543081]\n",
      " [-0.92767909]\n",
      " [-1.21931521]\n",
      " [-0.97830258]\n",
      " [-1.31792182]\n",
      " [-0.95217142]\n",
      " [-0.66459339]\n",
      " [-0.86576384]\n",
      " [-1.18371347]\n",
      " [-1.34046169]\n",
      " [-1.23052059]\n",
      " [-1.19887914]\n",
      " [-1.13911503]\n",
      " [-1.42735878]\n",
      " [-1.19887565]\n",
      " [-1.07035401]\n",
      " [-0.92272089]\n",
      " [-1.37622512]\n",
      " [-1.08230595]\n",
      " [-1.16959682]\n",
      " [-1.17106019]\n",
      " [-0.6695442 ]\n",
      " [-1.04617284]\n",
      " [-1.11013664]\n",
      " [-1.16101049]\n",
      " [-1.32921436]\n",
      " [-1.35327281]\n",
      " [-1.11409485]\n",
      " [-1.19509015]\n",
      " [-0.66786352]\n",
      " [-1.28469803]\n",
      " [-1.27044024]\n",
      " [-1.56568339]\n",
      " [-0.91001709]\n",
      " [-0.95405516]\n",
      " [-1.20085321]\n",
      " [-0.87761906]\n",
      " [-0.83160635]\n",
      " [-1.36035364]\n",
      " [-1.16633916]\n",
      " [-0.89905806]\n",
      " [-0.72667012]\n",
      " [-1.69692977]]\n"
     ]
    }
   ],
   "source": [
    "#on calcule les y_predictions\n",
    "y_predictions = model(X, theta)\n",
    "print(y_predictions.shape)\n",
    "print(y_predictions)"
   ]
  },
  {
   "cell_type": "code",
   "execution_count": 16,
   "metadata": {},
   "outputs": [
    {
     "data": {
      "text/plain": [
       "[<matplotlib.lines.Line2D at 0x188e7722b50>]"
      ]
     },
     "execution_count": 16,
     "metadata": {},
     "output_type": "execute_result"
    },
    {
     "data": {
      "image/png": "[encoded data removed]",
      "text/plain": [
       "<Figure size 640x480 with 1 Axes>"
      ]
     },
     "metadata": {},
     "output_type": "display_data"
    }
   ],
   "source": [
    "#on affiche notre modèle\n",
    "plt.scatter(x,y)\n",
    "plt.plot(x,y_predictions, c='r')\n",
    "\n",
    "#on constate que notre modèle n'est pas très fidèle à la réalité, il faut donc optimiser les paramètres a et b pour trouver le bon modèle.\n"
   ]
  },
  {
   "cell_type": "markdown",
   "metadata": {},
   "source": [
    "## Fonction de coûts"
   ]
  },
  {
   "cell_type": "code",
   "execution_count": 17,
   "metadata": {},
   "outputs": [],
   "source": [
    "#Notre modèle n'est pas très efficace, on créé donc une fonction de coût F qui est la moyenne des erreurs quadratiques\n",
    "def cout(X, y, theta):\n",
    "    return (1/(2*len(y))) * np.sum((model(X, theta) - y)**2)\n"
   ]
  },
  {
   "cell_type": "code",
   "execution_count": 18,
   "metadata": {},
   "outputs": [
    {
     "name": "stdout",
     "output_type": "stream",
     "text": [
      "1687.8765982532786\n"
     ]
    }
   ],
   "source": [
    "F = cout(X, y, theta)\n",
    "print(F)"
   ]
  },
  {
   "cell_type": "markdown",
   "metadata": {},
   "source": [
    "## Minimisation de la fonction de coût par la Descente de Gradient (DG)"
   ]
  },
  {
   "cell_type": "code",
   "execution_count": 19,
   "metadata": {},
   "outputs": [],
   "source": [
    "#Maintenant, on utilise la descente de gradients pour minimiser la fonction F et trouver les paramètres a, b optimaux\n",
    "def gradient(X, y, theta):\n",
    "    return (1/len(y)) * np.dot(X.T, (np.dot(X, theta) - y))\n",
    "\n",
    "def descenteGradient(X, y, theta, learning_rate, n_iterations):\n",
    "    histCout=np.zeros(n_iterations)\n",
    "    for iteration in range(0, n_iterations):\n",
    "        theta = theta - learning_rate*gradient(X, y, theta)\n",
    "        histCout[iteration]= cout(X,y,theta)\n",
    "\n",
    "    return theta, histCout\n",
    "\n",
    "def coefDet(y, y_predictions):\n",
    "    u=((y-y_predictions)**2).sum()\n",
    "    v=((y-y.mean())**2).sum()\n",
    "    return 1-u/v"
   ]
  },
  {
   "cell_type": "code",
   "execution_count": 36,
   "metadata": {},
   "outputs": [
    {
     "name": "stdout",
     "output_type": "stream",
     "text": [
      "(2, 1)\n",
      "[[55.0190342 ]\n",
      " [ 0.37230449]]\n"
     ]
    }
   ],
   "source": [
    "#on calcule les nouveaux paramètres theta\n",
    "resultDescenteGradient = descenteGradient(X, y, theta, 0.01, 1000)\n",
    "newTheta = resultDescenteGradient[0]\n",
    "varCout = resultDescenteGradient[1]\n",
    "\n",
    "print(newTheta.shape)\n",
    "print(newTheta)\n",
    "#print(varCout)"
   ]
  },
  {
   "cell_type": "code",
   "execution_count": 37,
   "metadata": {},
   "outputs": [
    {
     "data": {
      "text/plain": [
       "[<matplotlib.lines.Line2D at 0x188e8a52b50>]"
      ]
     },
     "execution_count": 37,
     "metadata": {},
     "output_type": "execute_result"
    },
    {
     "data": {
      "image/png": "[encoded data removed]",
      "text/plain": [
       "<Figure size 640x480 with 1 Axes>"
      ]
     },
     "metadata": {},
     "output_type": "display_data"
    }
   ],
   "source": [
    "#on calcule de nouveaux les y_predictions avec les bon theta\n",
    "y_predictions = model(X, newTheta)\n",
    "\n",
    "plt.scatter(x, y)\n",
    "plt.plot(x, y_predictions, c='red')"
   ]
  },
  {
   "cell_type": "code",
   "execution_count": 38,
   "metadata": {},
   "outputs": [
    {
     "data": {
      "text/plain": [
       "[<matplotlib.lines.Line2D at 0x188e8c525d0>]"
      ]
     },
     "execution_count": 38,
     "metadata": {},
     "output_type": "execute_result"
    },
    {
     "data": {
      "image/png": "[encoded data removed]",
      "text/plain": [
       "<Figure size 640x480 with 1 Axes>"
      ]
     },
     "metadata": {},
     "output_type": "display_data"
    }
   ],
   "source": [
    "#on affiche la variation des couts au fil de la descente des gradients\n",
    "plt.plot([i for i in range(1000)], varCout)"
   ]
  },
  {
   "cell_type": "code",
   "execution_count": 39,
   "metadata": {},
   "outputs": [
    {
     "name": "stdout",
     "output_type": "stream",
     "text": [
      "0.8887815619109964\n"
     ]
    }
   ],
   "source": [
    "#on calcule le coefficient de prédiction, plus le chiffre est proche de 1, mieux la prédiction est fidèle à la réalité\n",
    "coeffPredictions = coefDet(y, y_predictions)\n",
    "print(coeffPredictions)"
   ]
  }
 ],
 "metadata": {
  "kernelspec": {
   "display_name": "Python 3",
   "language": "python",
   "name": "python3"
  },
  "language_info": {
   "codemirror_mode": {
    "name": "ipython",
    "version": 3
   },
   "file_extension": ".py",
   "mimetype": "text/x-python",
   "name": "python",
   "nbconvert_exporter": "python",
   "pygments_lexer": "ipython3",
   "version": "3.11.5"
  },
  "orig_nbformat": 4
 },
 "nbformat": 4,
 "nbformat_minor": 2
}
